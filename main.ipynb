{
 "cells": [
  {
   "attachments": {},
   "cell_type": "markdown",
   "metadata": {},
   "source": [
    "## Getting Data Together into arrays"
   ]
  },
  {
   "cell_type": "code",
   "execution_count": 25,
   "metadata": {},
   "outputs": [],
   "source": [
    "# Import packages\n",
    "import os, json\n",
    "import numpy as np\n",
    "from nltk.stem.snowball import EnglishStemmer\n",
    "import matplotlib.pyplot as plt"
   ]
  },
  {
   "attachments": {},
   "cell_type": "markdown",
   "metadata": {},
   "source": [
    "The dataset has been downloaded already, but it needs to be imported from the JSON objects."
   ]
  },
  {
   "cell_type": "code",
   "execution_count": 20,
   "metadata": {},
   "outputs": [],
   "source": [
    "#Importing Data\n",
    "skip = True\n",
    "title = []\n",
    "text = []\n",
    "url = []\n",
    "labels = []\n",
    "\n",
    "for x in os.walk(\"fakenewsnet_dataset/politifact/fake\"):\n",
    "    if skip:\n",
    "        skip = False\n",
    "        continue\n",
    "    try:\n",
    "        dir = x[0] + \"/news content.json\"\n",
    "        dir = dir.replace(\"\\\\\",\"/\")\n",
    "        o = json.load(open(dir))\n",
    "        if o[\"text\"] != \"\":\n",
    "            title.append(o[\"title\"])\n",
    "            text.append(o[\"text\"])\n",
    "            url.append(o[\"url\"])\n",
    "            labels.append(1)\n",
    "    except Exception:\n",
    "        continue\n",
    "\n",
    "\n",
    "skip = True\n",
    "for x in os.walk(\"fakenewsnet_dataset/politifact/real\"):\n",
    "    if skip:\n",
    "        skip = False\n",
    "        continue\n",
    "    try:\n",
    "        dir = x[0] + \"/news content.json\"\n",
    "        dir = dir.replace(\"\\\\\",\"/\")\n",
    "        o = json.load(open(dir))\n",
    "        if o[\"text\"] != \"\":\n",
    "            title.append(o[\"title\"])\n",
    "            text.append(o[\"text\"])\n",
    "            url.append(o[\"url\"])\n",
    "            labels.append(0)\n",
    "    except Exception:\n",
    "        continue"
   ]
  },
  {
   "attachments": {},
   "cell_type": "markdown",
   "metadata": {},
   "source": [
    "## Preprocessing Data\n",
    "\n",
    "The TFIDF vectorizer handles a lot of the preprocessing, but it does not stem words, so that will be done using Natural Language Toolkit."
   ]
  },
  {
   "cell_type": "code",
   "execution_count": null,
   "metadata": {},
   "outputs": [],
   "source": [
    "\n",
    "# nltk.download('stopwords')\n",
    "# nltk.download('punkt')\n",
    "# from nltk.corpus import stopwords\n",
    "# from nltk.tokenize import word_tokenize\n",
    "# from nltk import ngrams\n"
   ]
  },
  {
   "cell_type": "code",
   "execution_count": null,
   "metadata": {},
   "outputs": [],
   "source": [
    "##CURRENTLY NOT USED\n",
    "# def n_gram_tokenize(text, n):\n",
    "#     tokenized_text = text[:]\n",
    "#     stemmer = EnglishStemmer()\n",
    "#     ngram_text = []\n",
    "#     for i in range(len(text)):\n",
    "#         tokenized_text[i] = re.sub(r'[^A-Za-z ]+',' ',tokenized_text[i]).lower()\n",
    "#         tokenized_text[i] = [word for word in word_tokenize(tokenized_text[i]) if not word in stop_words]\n",
    "#         tokenized_text[i] = [stemmer.stem(word) for word in tokenized_text[i]]\n",
    "#         ngram_text.append(list(ngrams(tokenized_text[i],n)))\n",
    "#     return tokenized_text, ngram_text"
   ]
  },
  {
   "cell_type": "code",
   "execution_count": null,
   "metadata": {},
   "outputs": [],
   "source": [
    "# tokenized_text, ngram_text = n_gram_tokenize(text,1)"
   ]
  },
  {
   "cell_type": "code",
   "execution_count": null,
   "metadata": {},
   "outputs": [],
   "source": [
    "# arr = np.array([title,url,text,tokenized_text,ngram_text,label],dtype=object).T\n",
    "# np.save(\"Pre-Processed Data\",arr)\n",
    "# dataset = pd.DataFrame(data=arr,columns=[\"Title\",\"URL\",\"Original Text\",\"Tokenized Text\",\"N-gram Text\",\"Label\"])\n",
    "# dataset['Label'] = dataset['Label'].astype(int)"
   ]
  },
  {
   "cell_type": "code",
   "execution_count": 21,
   "metadata": {},
   "outputs": [],
   "source": [
    "#Stemming using the english stemmer\n",
    "stemmer = EnglishStemmer()\n",
    "stemmed_text = text[:]\n",
    "stemmed_title = title[:]\n",
    "for i in range(len(text)):\n",
    "    stemmed_text[i] = ' '.join([stemmer.stem(word) for word in text[i].split(\" \")])\n",
    "    stemmed_title[i] = ' '.join([stemmer.stem(word) for word in title[i].split(\" \")])\n",
    "    stemmed_text[i] = stemmed_title[i] + stemmed_text[i]"
   ]
  },
  {
   "attachments": {},
   "cell_type": "markdown",
   "metadata": {},
   "source": [
    "## Tuning Hyperparameters\n",
    "The hyperparameter to be tuned is the range of n-grams to use for the vectorizer. For example, a range of (1,3) means that the model is trained on uni-grams, bi-grams, and tri-grams. A range of (1,1) would mean the model only takes into account uni-grams, or just words by themselves."
   ]
  },
  {
   "cell_type": "code",
   "execution_count": 22,
   "metadata": {},
   "outputs": [],
   "source": [
    "#Loading data\n",
    "stemmed_text = np.array(stemmed_text)\n",
    "labels = np.array(labels)"
   ]
  },
  {
   "cell_type": "code",
   "execution_count": 23,
   "metadata": {},
   "outputs": [
    {
     "data": {
      "text/plain": [
       "(571,)"
      ]
     },
     "execution_count": 23,
     "metadata": {},
     "output_type": "execute_result"
    }
   ],
   "source": [
    "#Train test split\n",
    "from sklearn.model_selection import train_test_split\n",
    "\n",
    "seed = 42\n",
    "X_train, X_test, y_train, y_test = train_test_split(stemmed_text,labels,test_size=0.3,random_state=seed)\n",
    "\n",
    "#Sanity check\n",
    "X_train.shape"
   ]
  },
  {
   "attachments": {},
   "cell_type": "markdown",
   "metadata": {},
   "source": [
    "The functions below were used for cross-validation. Stochastic Gradient Descent with a linear SVM loss function was used to classify in cross-validation. Any classifier could be used since performance within a classifier would be appropriate to test the difference in accuracy with different n-gram usage."
   ]
  },
  {
   "cell_type": "code",
   "execution_count": 42,
   "metadata": {},
   "outputs": [],
   "source": [
    "from sklearn.feature_extraction.text import TfidfVectorizer\n",
    "from sklearn.linear_model import SGDClassifier\n",
    "from sklearn.linear_model import LogisticRegression\n",
    "from sklearn.linear_model import Perceptron\n",
    "from sklearn.svm import SVC\n",
    "\n",
    "def FeatureExtraction(X_train, X_test,m,n,max_df=0.5,min_df=10):\n",
    "\n",
    "    #Feature extraction\n",
    "    vectorizer = TfidfVectorizer(strip_accents='unicode',stop_words='english',lowercase=True,token_pattern=r'\\b[a-zA-Z]{3,}\\b',ngram_range=(m,n),max_df = max_df,min_df=min_df)\n",
    "    X_train_features = vectorizer.fit_transform(X_train)\n",
    "    \n",
    "    #Transforming validation set\n",
    "    X_test_features = vectorizer.transform(X_test)\n",
    "    \n",
    "    return X_train_features, X_test_features\n",
    "    \n",
    "def Classify(X_train_features,X_test_features,y_train,method='SGD'):\n",
    "\n",
    "    #Training classifier\n",
    "    if method == 'SGD':\n",
    "        classifier = SGDClassifier(loss='hinge',n_jobs=-1,random_state=seed)\n",
    "    elif method == 'Logistic':\n",
    "        classifier = LogisticRegression(n_jobs=-1,random_state=seed)\n",
    "    elif method == 'LinearSVM':\n",
    "        classifier = SVC(random_state=seed,kernel='linear')\n",
    "    elif method == 'PolySVM':\n",
    "        classifier = SVC(random_state=seed,kernel='poly')\n",
    "    elif method == 'Perceptron':\n",
    "        classifier = Perceptron(n_jobs=-1,random_state=seed)\n",
    "    else:\n",
    "        raise Exception(\"Unsupported method passed\")\n",
    "        \n",
    "    classifier.fit(X_train_features,y_train)\n",
    "\n",
    "    #Predicting training set\n",
    "    pred_train_labels = classifier.predict(X_train_features)\n",
    "\n",
    "    #Predicting test set\n",
    "    pred_test_labels = classifier.predict(X_test_features)\n",
    "\n",
    "    return pred_train_labels, pred_test_labels"
   ]
  },
  {
   "cell_type": "code",
   "execution_count": 31,
   "metadata": {},
   "outputs": [
    {
     "data": {
      "image/png": "[encoded data removed]",
      "text/plain": [
       "<Figure size 500x500 with 1 Axes>"
      ]
     },
     "metadata": {},
     "output_type": "display_data"
    }
   ],
   "source": [
    "#Stratified cross-validation for tuning of n-gram range\n",
    "from sklearn.model_selection import StratifiedKFold\n",
    "from sklearn.metrics import accuracy_score\n",
    "\n",
    "kfold = StratifiedKFold(n_splits=5,shuffle=True,random_state=seed)\n",
    "\n",
    "bestScore = 0\n",
    "bestM = 0\n",
    "bestN = 0\n",
    "\n",
    "figure = plt.figure(figsize=(5,5))\n",
    "\n",
    "for m in range(1,3):\n",
    "    for n in range(m,4):\n",
    "        avgTrain = 0\n",
    "        avgVal = 0\n",
    "        k = 1\n",
    "        for train_i, test_i in kfold.split(X_train,y_train):\n",
    "\n",
    "            #Getting feature matrices\n",
    "            X_train_features, X_test_features = FeatureExtraction(X_train[train_i],X_train[test_i],m,n)\n",
    "\n",
    "            #Classification\n",
    "            pred_train_labels, pred_test_labels = Classify(X_train_features,X_test_features,y_train[train_i])\n",
    "\n",
    "            #Validity metric\n",
    "            avgTrain += accuracy_score(y_train[train_i],pred_train_labels)\n",
    "            avgVal += accuracy_score(y_train[test_i],pred_test_labels)\n",
    "\n",
    "            k += 1\n",
    "\n",
    "        avgTrain = avgTrain / kfold.get_n_splits()\n",
    "        avgVal = avgVal / kfold.get_n_splits()\n",
    "\n",
    "        plt.bar('(%d,%d)' % (m,n),avgVal)\n",
    "\n",
    "        #Store best\n",
    "        if avgVal > bestScore:\n",
    "            bestScore = avgVal\n",
    "            bestM = m\n",
    "            bestN = n\n",
    "\n",
    "plt.title(\"N-gram Tuning\")\n",
    "plt.xlabel(\"N-gram range for training\")\n",
    "plt.ylabel(\"Accuracy\")"
   ]
  },
  {
   "cell_type": "code",
   "execution_count": 29,
   "metadata": {},
   "outputs": [
    {
     "name": "stdout",
     "output_type": "stream",
     "text": [
      "The best n-gram range is (1,1) with an average score of 0.865141\n"
     ]
    }
   ],
   "source": [
    "print(\"The best n-gram range is (%d,%d)\" % (bestM,bestN), \"with an average score of %f\" % bestScore)"
   ]
  },
  {
   "cell_type": "code",
   "execution_count": 37,
   "metadata": {},
   "outputs": [
    {
     "data": {
      "text/plain": [
       "Text(0, 0.5, 'Accuracy')"
      ]
     },
     "execution_count": 37,
     "metadata": {},
     "output_type": "execute_result"
    },
    {
     "data": {
      "image/png": "[encoded data removed]",
      "text/plain": [
       "<Figure size 1000x500 with 1 Axes>"
      ]
     },
     "metadata": {},
     "output_type": "display_data"
    }
   ],
   "source": [
    "from sklearn.model_selection import StratifiedKFold\n",
    "from sklearn.metrics import accuracy_score, confusion_matrix\n",
    "\n",
    "kfold = StratifiedKFold(n_splits=5,shuffle=True,random_state=seed)\n",
    "\n",
    "m = bestM\n",
    "n = bestN\n",
    "bestScore = 0\n",
    "bestMinDf = 0\n",
    "bestMaxDf = 0\n",
    "\n",
    "figure = plt.figure(figsize=(10,5))\n",
    "\n",
    "for min_df in [10, 20, 30]:\n",
    "    for max_df in [0.3, 0.5, 0.7]:\n",
    "        avgTrain = 0\n",
    "        avgVal = 0\n",
    "        k = 1\n",
    "        for train_i, test_i in kfold.split(X_train,y_train):\n",
    "\n",
    "            #Getting feature matrices\n",
    "            X_train_features, X_test_features = FeatureExtraction(X_train[train_i],X_train[test_i],m,n,max_df=max_df,min_df=min_df)\n",
    "\n",
    "            #Classification\n",
    "            pred_train_labels, pred_test_labels = Classify(X_train_features,X_test_features,y_train[train_i])\n",
    "\n",
    "            avgTrain += accuracy_score(y_train[train_i],pred_train_labels)\n",
    "            avgVal += accuracy_score(y_train[test_i],pred_test_labels)\n",
    "\n",
    "            k += 1\n",
    "\n",
    "        avgTrain = avgTrain / kfold.get_n_splits()\n",
    "        avgVal = avgVal / kfold.get_n_splits()\n",
    "\n",
    "        plt.bar('(%d,%.2f)' % (min_df,max_df),avgVal)\n",
    "\n",
    "        if avgVal > bestScore:\n",
    "            bestScore = avgVal\n",
    "            bestMinDf = min_df\n",
    "            bestMaxDf = max_df\n",
    "\n",
    "plt.title(\"DF Tuning\")\n",
    "plt.xlabel(\"Min and Max DF for training\")\n",
    "plt.ylabel(\"Accuracy\")"
   ]
  },
  {
   "cell_type": "code",
   "execution_count": 38,
   "metadata": {},
   "outputs": [
    {
     "name": "stdout",
     "output_type": "stream",
     "text": [
      "The best min and max df values are 10 and 0.30 respectively, with an average score of 0.866895\n"
     ]
    }
   ],
   "source": [
    "print(\"The best min and max df values are %d and %.2f respectively,\" % (bestMinDf,bestMaxDf), \"with an average score of %f\" % bestScore)"
   ]
  },
  {
   "attachments": {},
   "cell_type": "markdown",
   "metadata": {},
   "source": [
    "## Training"
   ]
  },
  {
   "cell_type": "code",
   "execution_count": 43,
   "metadata": {},
   "outputs": [
    {
     "data": {
      "text/plain": [
       "<BarContainer object of 1 artists>"
      ]
     },
     "execution_count": 43,
     "metadata": {},
     "output_type": "execute_result"
    },
    {
     "data": {
      "image/png": "[encoded data removed]",
      "text/plain": [
       "<Figure size 1000x500 with 1 Axes>"
      ]
     },
     "metadata": {},
     "output_type": "display_data"
    }
   ],
   "source": [
    "plt.figure(figsize=(10,5))\n",
    "\n",
    "#Getting feature matrices\n",
    "X_train_features, X_test_features = FeatureExtraction(X_train,X_test,m,n,max_df=bestMaxDf,min_df=bestMinDf)\n",
    "\n",
    "#Classification\n",
    "pred_train_labels, pred_test_labels = Classify(X_train_features,X_test_features,y_train,method='SGD')\n",
    "plt.bar('SGD',accuracy_score(y_test,pred_test_labels))\n",
    "pred_train_labels, pred_test_labels = Classify(X_train_features,X_test_features,y_train,method='Logistic')\n",
    "plt.bar('Logistic',accuracy_score(y_test,pred_test_labels))\n",
    "pred_train_labels, pred_test_labels = Classify(X_train_features,X_test_features,y_train,method='LinearSVM')\n",
    "plt.bar('LinearSVM',accuracy_score(y_test,pred_test_labels))\n",
    "pred_train_labels, pred_test_labels = Classify(X_train_features,X_test_features,y_train,method='PolySVM')\n",
    "plt.bar('PolySVM',accuracy_score(y_test,pred_test_labels))\n",
    "pred_train_labels, pred_test_labels = Classify(X_train_features,X_test_features,y_train,method='Perceptron')\n",
    "plt.bar('Perceptron',accuracy_score(y_test,pred_test_labels))\n"
   ]
  }
 ],
 "metadata": {
  "kernelspec": {
   "display_name": "PR",
   "language": "python",
   "name": "python3"
  },
  "language_info": {
   "codemirror_mode": {
    "name": "ipython",
    "version": 3
   },
   "file_extension": ".py",
   "mimetype": "text/x-python",
   "name": "python",
   "nbconvert_exporter": "python",
   "pygments_lexer": "ipython3",
   "version": "3.9.15"
  },
  "orig_nbformat": 4
 },
 "nbformat": 4,
 "nbformat_minor": 2
}
